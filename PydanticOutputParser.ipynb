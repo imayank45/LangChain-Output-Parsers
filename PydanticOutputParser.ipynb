{
  "nbformat": 4,
  "nbformat_minor": 0,
  "metadata": {
    "colab": {
      "provenance": []
    },
    "kernelspec": {
      "name": "python3",
      "display_name": "Python 3"
    },
    "language_info": {
      "name": "python"
    }
  },
  "cells": [
    {
      "cell_type": "code",
      "source": [
        "!pip install -q langchain langchain-core langchain-huggingface python-dotenv"
      ],
      "metadata": {
        "id": "myR4akOqZLUI"
      },
      "execution_count": 3,
      "outputs": []
    },
    {
      "cell_type": "code",
      "source": [
        "import os\n",
        "\n",
        "os.environ[\"HUGGINGFACEHUB_API_TOKEN\"] = \"\""
      ],
      "metadata": {
        "id": "iy7zTaYJYxma"
      },
      "execution_count": 1,
      "outputs": []
    },
    {
      "cell_type": "code",
      "execution_count": 5,
      "metadata": {
        "id": "fXNNprU5Ym6o"
      },
      "outputs": [],
      "source": [
        "from langchain_huggingface import ChatHuggingFace, HuggingFaceEndpoint\n",
        "from dotenv import load_dotenv\n",
        "from langchain_core.prompts import PromptTemplate\n",
        "from langchain_core.output_parsers import PydanticOutputParser\n",
        "from pydantic import BaseModel, Field\n",
        "load_dotenv()\n",
        "import os\n"
      ]
    },
    {
      "cell_type": "code",
      "source": [
        "# Initialize the Hugging Face model endpoint\n",
        "llm = HuggingFaceEndpoint(\n",
        "    repo_id=\"google/gemma-2-2b-it\",\n",
        "    task=\"text-generation\",\n",
        "    huggingfacehub_api_token=os.getenv(\"HUGGINGFACEHUB_API_TOKEN\")  # ✅ explicitly passed\n",
        ")\n",
        "\n",
        "# Wrap it in a Chat interface\n",
        "model = ChatHuggingFace(llm=llm)"
      ],
      "metadata": {
        "id": "umkJ1U6-ZTca"
      },
      "execution_count": 6,
      "outputs": []
    },
    {
      "cell_type": "code",
      "source": [
        "# schema\n",
        "class Person(BaseModel):\n",
        "  name: str = Field(description=\"person's name\")\n",
        "  age: int = Field(gt = 18, description=\"person's age\")\n",
        "  city: str = Field(description=\"person's city\")"
      ],
      "metadata": {
        "id": "CzR_EwESZIWy"
      },
      "execution_count": 7,
      "outputs": []
    },
    {
      "cell_type": "code",
      "source": [
        "# parser\n",
        "parser = PydanticOutputParser(pydantic_object=Person)"
      ],
      "metadata": {
        "id": "Mkl7kI9lZv4t"
      },
      "execution_count": 8,
      "outputs": []
    },
    {
      "cell_type": "code",
      "source": [
        "# template\n",
        "template = PromptTemplate(\n",
        "    template='Generate name, age and city of a fictional {place} person \\n {format_instruction}',\n",
        "    input_variables=['place'],\n",
        "    partial_variables={'format_instruction': parser.get_format_instructions()}\n",
        ")"
      ],
      "metadata": {
        "id": "sSm1vSivZykF"
      },
      "execution_count": 9,
      "outputs": []
    },
    {
      "cell_type": "code",
      "source": [
        "# prompt\n",
        "prompt = template.format_prompt(place='India')\n",
        "print(prompt)"
      ],
      "metadata": {
        "colab": {
          "base_uri": "https://localhost:8080/"
        },
        "id": "saJFzDLTaL1x",
        "outputId": "2b20998b-8df0-4700-a068-1fa22569048c"
      },
      "execution_count": 18,
      "outputs": [
        {
          "output_type": "stream",
          "name": "stdout",
          "text": [
            "text='Generate name, age and city of a fictional India person \\n The output should be formatted as a JSON instance that conforms to the JSON schema below.\\n\\nAs an example, for the schema {\"properties\": {\"foo\": {\"title\": \"Foo\", \"description\": \"a list of strings\", \"type\": \"array\", \"items\": {\"type\": \"string\"}}}, \"required\": [\"foo\"]}\\nthe object {\"foo\": [\"bar\", \"baz\"]} is a well-formatted instance of the schema. The object {\"properties\": {\"foo\": [\"bar\", \"baz\"]}} is not well-formatted.\\n\\nHere is the output schema:\\n```\\n{\"properties\": {\"name\": {\"description\": \"person\\'s name\", \"title\": \"Name\", \"type\": \"string\"}, \"age\": {\"description\": \"person\\'s age\", \"exclusiveMinimum\": 18, \"title\": \"Age\", \"type\": \"integer\"}, \"city\": {\"description\": \"person\\'s city\", \"title\": \"City\", \"type\": \"string\"}}, \"required\": [\"name\", \"age\", \"city\"]}\\n```'\n"
          ]
        }
      ]
    },
    {
      "cell_type": "code",
      "source": [
        "result = model.invoke(prompt)\n",
        "print(result)"
      ],
      "metadata": {
        "colab": {
          "base_uri": "https://localhost:8080/"
        },
        "id": "YxFy7Jv_aQao",
        "outputId": "d61e4028-63f6-4ab9-bbc5-df73c1b74a1b"
      },
      "execution_count": 19,
      "outputs": [
        {
          "output_type": "stream",
          "name": "stdout",
          "text": [
            "content='```json\\n{\"name\": \"Arundhati Gupta\", \"age\": 25, \"city\": \"Bangalore\"}\\n```' additional_kwargs={} response_metadata={'token_usage': {'completion_tokens': 28, 'prompt_tokens': 240, 'total_tokens': 268}, 'model_name': 'google/gemma-2-2b-it', 'system_fingerprint': None, 'finish_reason': 'stop', 'logprobs': None} id='run--d59b68d2-eb51-4c7d-9c4f-5d323552f89b-0' usage_metadata={'input_tokens': 240, 'output_tokens': 28, 'total_tokens': 268}\n"
          ]
        }
      ]
    },
    {
      "cell_type": "code",
      "source": [
        "final_result = parser.parse(result.content)\n",
        "print(final_result)"
      ],
      "metadata": {
        "colab": {
          "base_uri": "https://localhost:8080/"
        },
        "id": "T2oCOP04aXYh",
        "outputId": "b4da7bd1-0a94-4fbe-97d3-f71360d6bfd2"
      },
      "execution_count": 20,
      "outputs": [
        {
          "output_type": "stream",
          "name": "stdout",
          "text": [
            "name='Arundhati Gupta' age=25 city='Bangalore'\n"
          ]
        }
      ]
    },
    {
      "cell_type": "code",
      "source": [
        ""
      ],
      "metadata": {
        "id": "5a14bRKwai34"
      },
      "execution_count": null,
      "outputs": []
    }
  ]
}